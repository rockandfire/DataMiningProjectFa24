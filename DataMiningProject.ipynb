{
 "cells": [
  {
   "cell_type": "code",
   "execution_count": 1,
   "id": "initial_id",
   "metadata": {
    "collapsed": true,
    "ExecuteTime": {
     "end_time": "2024-10-15T03:11:34.032010600Z",
     "start_time": "2024-10-15T03:11:33.068257300Z"
    }
   },
   "outputs": [],
   "source": [
    "import mysql.connector\n",
    "import pandas as pd\n",
    "import numpy as np\n",
    "from sklearn.cluster import KMeans\n",
    "from sklearn.preprocessing import MultiLabelBinarizer\n",
    "from sklearn.metrics.pairwise import cosine_similarity"
   ]
  },
  {
   "cell_type": "markdown",
   "source": [
    "## Downloand database"
   ],
   "metadata": {
    "collapsed": false
   },
   "id": "8b754282e779562d"
  },
  {
   "cell_type": "code",
   "execution_count": 3,
   "outputs": [],
   "source": [
    "def connect_to_database():\n",
    "    try:\n",
    "        connection = mysql.connector.connect(\n",
    "            host='localhost',\n",
    "            database='magic_cards',\n",
    "            user='root',\n",
    "            password='ThisWasMyPassword'\n",
    "        )\n",
    "        if connection.is_connected():\n",
    "            print(\"Connected to MySQL database\")\n",
    "            return connection\n",
    "    except mysql.connector.Error as e:\n",
    "        print(f\"Error while connecting to MySQL: {e}\")\n",
    "    return None\n",
    "\n",
    "def export_to_csv(connection, filename='magic_cards.csv'):\n",
    "    query = \"\"\"\n",
    "    SELECT name, colorIdentity, keywords, supertypes\n",
    "    FROM cards\n",
    "    \"\"\"\n",
    "    df = pd.read_sql(query, connection)\n",
    "    df.to_csv(filename, index=False)\n",
    "    print(f\"Data exported to {filename}\")\n",
    "\n"
   ],
   "metadata": {
    "collapsed": false,
    "ExecuteTime": {
     "end_time": "2024-10-15T03:13:23.173131100Z",
     "start_time": "2024-10-15T03:13:23.157163800Z"
    }
   },
   "id": "f88ee544033eb3c4"
  },
  {
   "cell_type": "code",
   "execution_count": 4,
   "outputs": [
    {
     "name": "stdout",
     "output_type": "stream",
     "text": [
      "Connected to MySQL database\n"
     ]
    },
    {
     "name": "stderr",
     "output_type": "stream",
     "text": [
      "C:\\Users\\dacot\\AppData\\Local\\Temp\\ipykernel_3160\\4119285646.py:21: UserWarning: pandas only supports SQLAlchemy connectable (engine/connection) or database string URI or sqlite3 DBAPI2 connection. Other DBAPI2 objects are not tested. Please consider using SQLAlchemy.\n",
      "  df = pd.read_sql(query, connection)\n"
     ]
    },
    {
     "name": "stdout",
     "output_type": "stream",
     "text": [
      "Data exported to magic_cards.csv\n"
     ]
    }
   ],
   "source": [
    "# Main execution\n",
    "connection = connect_to_database()\n",
    "if connection:\n",
    "    export_to_csv(connection)\n",
    "    connection.close()\n",
    "else:\n",
    "    print(\"Failed to connect to the database.\")"
   ],
   "metadata": {
    "collapsed": false,
    "ExecuteTime": {
     "end_time": "2024-10-15T03:13:25.753621900Z",
     "start_time": "2024-10-15T03:13:24.408907300Z"
    }
   },
   "id": "a37291bded5f251d"
  },
  {
   "cell_type": "markdown",
   "source": [
    "## Analysis portion"
   ],
   "metadata": {
    "collapsed": false
   },
   "id": "6f9fef69fefcb615"
  },
  {
   "cell_type": "code",
   "execution_count": 5,
   "outputs": [],
   "source": [
    "def load_card_data(filename='magic_cards.csv'):\n",
    "    return pd.read_csv(filename)\n",
    "\n",
    "def prepare_features(df):\n",
    "    # Process colors\n",
    "    color_map = {'W': 'White', 'U': 'Blue', 'B': 'Black', 'R': 'Red', 'G': 'Green'}\n",
    "    df['colorIdentity'] = df['colorIdentity'].fillna('').apply(lambda x: [color_map.get(c.strip(), c.strip()) for c in x.split(',')] if isinstance(x, str) else [])\n",
    "    mlb_colors = MultiLabelBinarizer()\n",
    "    color_features = pd.DataFrame(\n",
    "        mlb_colors.fit_transform(df['colorIdentity']),\n",
    "        columns=mlb_colors.classes_,\n",
    "        index=df.index\n",
    "    )\n",
    "    \n",
    "    # Process keywords\n",
    "    df['keywords'] = df['keywords'].fillna('').apply(lambda x: [kw.strip() for kw in x.split(',')] if isinstance(x, str) else [])\n",
    "    mlb_keywords = MultiLabelBinarizer()\n",
    "    keyword_features = pd.DataFrame(\n",
    "        mlb_keywords.fit_transform(df['keywords']),\n",
    "        columns=mlb_keywords.classes_,\n",
    "        index=df.index\n",
    "    )\n",
    "    \n",
    "    # Process supertypes\n",
    "    df['is_legendary'] = df['supertypes'].fillna('').str.contains('Legendary')\n",
    "    \n",
    "    # Combine features\n",
    "    features = pd.concat([color_features, keyword_features, df[['is_legendary']]], axis=1)\n",
    "    \n",
    "    return features, mlb_colors, mlb_keywords\n",
    "\n",
    "def cluster_cards(features, n_clusters=10):\n",
    "    kmeans = KMeans(n_clusters=n_clusters, random_state=69, n_init=10)\n",
    "    return kmeans.fit_predict(features)\n",
    "\n",
    "def find_related_cards(df, features, legendary_card_name, top_n=10):\n",
    "    legendary_card = df[df['name'] == legendary_card_name].index[0]\n",
    "    legendary_features = features.iloc[legendary_card].values.reshape(1, -1)\n",
    "    \n",
    "    similarities = cosine_similarity(legendary_features, features)\n",
    "    similar_indices = similarities[0].argsort()[::-1][1:top_n+1]\n",
    "    \n",
    "    return df.iloc[similar_indices]"
   ],
   "metadata": {
    "collapsed": false,
    "ExecuteTime": {
     "end_time": "2024-10-15T03:14:55.036126600Z",
     "start_time": "2024-10-15T03:14:55.019345900Z"
    }
   },
   "id": "7068866341f9394e"
  },
  {
   "cell_type": "code",
   "execution_count": 6,
   "outputs": [],
   "source": [
    "df = load_card_data()\n",
    "features, mlb_colors, mlb_keywords = prepare_features(df)\n",
    "\n",
    "# Perform clustering\n",
    "clusters = cluster_cards(features)\n",
    "df['cluster'] = clusters"
   ],
   "metadata": {
    "collapsed": false,
    "ExecuteTime": {
     "end_time": "2024-10-15T03:20:17.117493900Z",
     "start_time": "2024-10-15T03:20:06.558389700Z"
    }
   },
   "id": "2a975fe7dcbaf848"
  },
  {
   "cell_type": "code",
   "execution_count": 8,
   "outputs": [
    {
     "name": "stdout",
     "output_type": "stream",
     "text": [
      "Sample of clustered cards:\n",
      "                name colorIdentity        keywords  is_legendary  cluster\n",
      "0  Ancestor's Chosen       [White]  [First strike]         False        7\n",
      "1  Ancestor's Chosen       [White]  [First strike]         False        7\n",
      "2     Angel of Mercy       [White]        [Flying]         False        7\n",
      "3     Angel of Mercy       [White]        [Flying]         False        7\n",
      "4   Angelic Blessing       [White]              []         False        9\n"
     ]
    }
   ],
   "source": [
    "print(\"Sample of clustered cards:\")\n",
    "print(df[['name', 'colorIdentity', 'keywords', 'is_legendary', 'cluster']].head(5))"
   ],
   "metadata": {
    "collapsed": false,
    "ExecuteTime": {
     "end_time": "2024-10-15T03:20:54.150870100Z",
     "start_time": "2024-10-15T03:20:54.118983600Z"
    }
   },
   "id": "873eac1d069347e"
  },
  {
   "cell_type": "code",
   "execution_count": 9,
   "outputs": [
    {
     "name": "stdout",
     "output_type": "stream",
     "text": [
      "\n",
      "Cards related to Reya Dawnbringer:\n",
      "                              name colorIdentity  keywords  is_legendary\n",
      "49                Reya Dawnbringer       [White]  [Flying]          True\n",
      "48                Reya Dawnbringer       [White]  [Flying]          True\n",
      "73894  Mavinda, Students' Advocate       [White]  [Flying]          True\n",
      "33564     Lulu, Helpful Hollyphant       [White]  [Flying]          True\n",
      "64390              Celestial Kirin       [White]  [Flying]          True\n",
      "54848   Teshar, Ancestor's Apostle       [White]  [Flying]          True\n",
      "56006            Lieutenant Kirtar       [White]  [Flying]          True\n",
      "84857              Celestial Kirin       [White]  [Flying]          True\n",
      "56375       Linvala, the Preserver       [White]  [Flying]          True\n",
      "85669  Mavinda, Students' Advocate       [White]  [Flying]          True\n"
     ]
    }
   ],
   "source": [
    "# Find related cards for a legendary creature\n",
    "legendary_card_name = \"Reya Dawnbringer\"  # An example from your data\n",
    "if legendary_card_name in df['name'].values:\n",
    "    related_cards = find_related_cards(df, features, legendary_card_name)\n",
    "    print(f\"\\nCards related to {legendary_card_name}:\")\n",
    "    print(related_cards[['name', 'colorIdentity', 'keywords', 'is_legendary']])\n",
    "else:\n",
    "    print(f\"Legendary creature '{legendary_card_name}' not found in the database.\")"
   ],
   "metadata": {
    "collapsed": false,
    "ExecuteTime": {
     "end_time": "2024-10-15T03:21:02.901497700Z",
     "start_time": "2024-10-15T03:21:01.028335400Z"
    }
   },
   "id": "158b2b897287ae95"
  },
  {
   "cell_type": "code",
   "execution_count": 10,
   "outputs": [
    {
     "name": "stdout",
     "output_type": "stream",
     "text": [
      "\n",
      "Cluster Statistics:\n",
      "cluster\n",
      "0    17150\n",
      "6    15621\n",
      "2    13611\n",
      "3    11453\n",
      "4    10814\n",
      "9     9237\n",
      "7     7526\n",
      "8     6368\n",
      "5     3085\n",
      "1     2828\n",
      "Name: count, dtype: int64\n",
      "\n",
      "Most common keywords:\n",
      "keywords\n",
      "             57286\n",
      "Flying        8811\n",
      "Enchant       3294\n",
      "Trample       2441\n",
      "Haste         1784\n",
      "Vigilance     1675\n",
      "Equip         1463\n",
      "Mill          1427\n",
      "Flash         1384\n",
      "Scry          1345\n",
      "Name: count, dtype: int64\n",
      "\n",
      "Color distribution:\n",
      "colorIdentity\n",
      "Green    22038\n",
      "Black    21896\n",
      "White    21690\n",
      "Blue     21666\n",
      "Red      21650\n",
      "         10814\n",
      "Name: count, dtype: int64\n"
     ]
    }
   ],
   "source": [
    "# Print some statistics\n",
    "print(\"\\nCluster Statistics:\")\n",
    "print(df['cluster'].value_counts())\n",
    "\n",
    "print(\"\\nMost common keywords:\")\n",
    "print(df['keywords'].explode().value_counts().head(10))\n",
    "\n",
    "print(\"\\nColor distribution:\")\n",
    "print(df['colorIdentity'].explode().value_counts())"
   ],
   "metadata": {
    "collapsed": false,
    "ExecuteTime": {
     "end_time": "2024-10-15T03:23:33.863277300Z",
     "start_time": "2024-10-15T03:23:33.817960300Z"
    }
   },
   "id": "e984117d412790d2"
  },
  {
   "cell_type": "code",
   "execution_count": null,
   "outputs": [],
   "source": [],
   "metadata": {
    "collapsed": false
   },
   "id": "9ef89bf10a3a5ec4"
  }
 ],
 "metadata": {
  "kernelspec": {
   "display_name": "Python 3",
   "language": "python",
   "name": "python3"
  },
  "language_info": {
   "codemirror_mode": {
    "name": "ipython",
    "version": 2
   },
   "file_extension": ".py",
   "mimetype": "text/x-python",
   "name": "python",
   "nbconvert_exporter": "python",
   "pygments_lexer": "ipython2",
   "version": "2.7.6"
  }
 },
 "nbformat": 4,
 "nbformat_minor": 5
}
